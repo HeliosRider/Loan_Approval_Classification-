{
 "cells": [
  {
   "cell_type": "code",
   "execution_count": 2,
   "id": "0264bcf0-8eae-43c7-82b4-59ba8ebc81ab",
   "metadata": {},
   "outputs": [],
   "source": [
    "import pandas as pd\n",
    "import numpy as np\n",
    "import pandas as pd\n",
    "from sklearn.preprocessing import StandardScaler\n",
    "\n",
    "# Read the CSV file\n",
    "clean_loan_data = pd.read_csv(\"/Users/faisaldernawi/Desktop/Training_And_Development/GW_Bootcamp/Homework/Project_4/Loan_Approval_Classification-/Resources/clean_loan_data.csv\")  \n",
    "\n",
    "# 1. Create a New Feature: Debt-to-Income Ratio\n",
    "clean_loan_data[\"debt_to_income_ratio\"] = clean_loan_data[\"loan_amnt\"] / clean_loan_data[\"person_income\"]\n",
    "\n",
    "# 2. Convert Categorical Features to Numerical (One-Hot Encoding)\n",
    "clean_loan_data = pd.get_dummies(clean_loan_data, columns=[\"person_home_ownership\", \"loan_intent\", \"person_gender\", \"person_education\"], drop_first=True)\n",
    "\n",
    "# 3. Label Encode a Binary Column (Previous Defaults Yes/No)\n",
    "clean_loan_data[\"previous_loan_defaults_on_file\"] = clean_loan_data[\"previous_loan_defaults_on_file\"].map({\"Yes\": 1, \"No\": 0})\n",
    "\n",
    "# 4. Categorize Credit Score Ranges\n",
    "bins = [300, 580, 670, 740, 800, 850]\n",
    "labels = [\"Poor\", \"Fair\", \"Good\", \"Very Good\", \"Excellent\"]\n",
    "clean_loan_data[\"credit_score_category\"] = pd.cut(clean_loan_data[\"credit_score\"], bins=bins, labels=labels)\n",
    "\n",
    "# 5. Log Transform Loan Amount to Reduce Skewness\n",
    "clean_loan_data[\"log_loan_amnt\"] = np.log1p(clean_loan_data[\"loan_amnt\"])\n",
    "\n",
    "# 6. Extract Yearly Interest Payment\n",
    "clean_loan_data[\"yearly_interest_payment\"] = (clean_loan_data[\"loan_amnt\"] * clean_loan_data[\"loan_int_rate\"]) / 100\n",
    "\n",
    "# 7. Create a Loan Approval Indicator\n",
    "clean_loan_data[\"loan_approved\"] = clean_loan_data[\"loan_status\"].apply(lambda x: 1 if x == 0 else 0)\n",
    "\n",
    "# 8. Calculate Employment-to-Age Ratio\n",
    "clean_loan_data[\"emp_age_ratio\"] = clean_loan_data[\"person_emp_exp\"] / clean_loan_data[\"person_age\"]\n",
    "\n",
    "# 9. Bucket Loan Amount into Categories\n",
    "bins = [0, 5000, 15000, 30000, 50000, 100000]\n",
    "labels = [\"Very Low\", \"Low\", \"Medium\", \"High\", \"Very High\"]\n",
    "clean_loan_data[\"loan_amount_category\"] = pd.cut(clean_loan_data[\"loan_amnt\"], bins=bins, labels=labels)\n",
    "\n",
    "# 10. Compute Credit Utilization Ratio\n",
    "clean_loan_data[\"credit_utilization\"] = clean_loan_data[\"loan_amnt\"] / (clean_loan_data[\"credit_score\"] * 10)\n",
    "\n",
    "# 11. Create an Interaction Feature Between Loan Amount and Interest Rate\n",
    "clean_loan_data[\"loan_amount_interest_interaction\"] = clean_loan_data[\"loan_amnt\"] * clean_loan_data[\"loan_int_rate\"]\n",
    "\n",
    "# 12. Compute Loan Tenure Using Credit History Length\n",
    "clean_loan_data[\"loan_tenure_estimate\"] = clean_loan_data[\"cb_person_cred_hist_length\"] * 12\n",
    "\n",
    "# 13. Standardize Income Feature\n",
    "scaler = StandardScaler()\n",
    "clean_loan_data[\"scaled_income\"] = scaler.fit_transform(clean_loan_data[[\"person_income\"]])\n",
    "\n",
    "# 14. Compute Interest-to-Income Ratio\n",
    "clean_loan_data[\"interest_income_ratio\"] = clean_loan_data[\"yearly_interest_payment\"] / clean_loan_data[\"person_income\"]\n",
    "\n",
    "# 15. Check If Borrower is a Young Professional (Age < 30 & Income > 40K)\n",
    "clean_loan_data[\"young_professional\"] = ((clean_loan_data[\"person_age\"] < 30) & (clean_loan_data[\"person_income\"] > 40000)).astype(int)\n"
   ]
  },
  {
   "cell_type": "code",
   "execution_count": null,
   "id": "c04e642d-7c96-4af6-be64-3ce187cfe514",
   "metadata": {},
   "outputs": [],
   "source": []
  }
 ],
 "metadata": {
  "kernelspec": {
   "display_name": "Python 3 (ipykernel)",
   "language": "python",
   "name": "python3"
  },
  "language_info": {
   "codemirror_mode": {
    "name": "ipython",
    "version": 3
   },
   "file_extension": ".py",
   "mimetype": "text/x-python",
   "name": "python",
   "nbconvert_exporter": "python",
   "pygments_lexer": "ipython3",
   "version": "3.12.4"
  }
 },
 "nbformat": 4,
 "nbformat_minor": 5
}
